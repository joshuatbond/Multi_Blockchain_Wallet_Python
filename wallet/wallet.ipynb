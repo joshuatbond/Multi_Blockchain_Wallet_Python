{
 "metadata": {
  "language_info": {
   "codemirror_mode": {
    "name": "ipython",
    "version": 3
   },
   "file_extension": ".py",
   "mimetype": "text/x-python",
   "name": "python",
   "nbconvert_exporter": "python",
   "pygments_lexer": "ipython3",
   "version": "3.7.9"
  },
  "orig_nbformat": 2,
  "kernelspec": {
   "name": "python379jvsc74a57bd012b6d5394798ff25d2262d55c04aabb4412bb8d2178a555b11903aef6559a316",
   "display_name": "Python 3.7.9 64-bit ('blockchain': conda)"
  }
 },
 "nbformat": 4,
 "nbformat_minor": 2,
 "cells": [
  {
   "cell_type": "code",
   "execution_count": 2,
   "metadata": {},
   "outputs": [
    {
     "output_type": "execute_result",
     "data": {
      "text/plain": [
       "True"
      ]
     },
     "metadata": {},
     "execution_count": 2
    }
   ],
   "source": [
    "# import libraries\n",
    "import subprocess\n",
    "import json\n",
    "import os\n",
    "from dotenv import load_dotenv\n",
    "from constants import *\n",
    "from web3 import Web3\n",
    "from eth_account import Account\n",
    "from bit import PrivateKeyTestnet\n",
    "from bit.network import NetworkAPI\n",
    "from web3.middleware import geth_poa_middleware\n",
    "from web3.gas_strategies.time_based import medium_gas_price_strategy\n",
    "\n",
    "load_dotenv()"
   ]
  },
  {
   "cell_type": "code",
   "execution_count": 3,
   "metadata": {},
   "outputs": [],
   "source": [
    "# import mnemonic from env\n",
    "mnemonic = os.getenv(\"mnemonic\")"
   ]
  },
  {
   "cell_type": "code",
   "execution_count": 4,
   "metadata": {},
   "outputs": [],
   "source": [
    "# connect to local ETH/ geth\n",
    "w3 = Web3(Web3.HTTPProvider('http://127.0.0.1:8545'))\n",
    "w3.middleware_onion.inject(geth_poa_middleware, layer=0)\n",
    "w3.eth.setGasPriceStrategy(medium_gas_price_strategy)"
   ]
  },
  {
   "cell_type": "code",
   "execution_count": 6,
   "metadata": {},
   "outputs": [],
   "source": [
    "# create a function called `derive_wallets`\n",
    "def derive_wallets(mnemonic, coin, numderive):\n",
    "    command = f'php derive -g --mnemonic=\"{mnemonic}\" --coin=\"{coin}\" --numderive=\"{numderive}\" --format=json'\n",
    "    p = subprocess.Popen(command, stdout=subprocess.PIPE, shell=True)\n",
    "    output, err = p.communicate()\n",
    "    p_status = p.wait()\n",
    "    return json.loads(output)"
   ]
  },
  {
   "cell_type": "code",
   "execution_count": 7,
   "metadata": {},
   "outputs": [],
   "source": [
    "# create a dictionary object called coins to store the output from `derive_wallets`.\n",
    "coins = {\"eth\", \"btc-test\", \"btc\"}\n",
    "numderive = 3"
   ]
  },
  {
   "cell_type": "code",
   "execution_count": 8,
   "metadata": {},
   "outputs": [],
   "source": [
    "keys = {}\n",
    "for coin in coins:\n",
    "    keys[coin]= derive_wallets(mnemonic, coin, numderive=3)"
   ]
  },
  {
   "cell_type": "code",
   "execution_count": 9,
   "metadata": {},
   "outputs": [
    {
     "output_type": "stream",
     "name": "stdout",
     "text": [
      "{\n    \"btc\": [\n        {\n            \"address\": \"17L89rx13GvEaAyrQjEJ4JnJkzbFYnsaE2\",\n            \"index\": 0,\n            \"path\": \"m/44'/0'/0'/0/0\",\n            \"privkey\": \"KxvTiR5stQ9zpS542bhSjFF6wJ6dsuHeuPEuo5iFJ45QBQ9RnN7E\",\n            \"pubkey\": \"039023ccc11ea158bfa3b434d6cc80c5c235c88c05919bf51aa5edb952d781f79f\",\n            \"pubkeyhash\": \"456ea0fa12c0dddc44b87891ba98b077433a7785\",\n            \"xprv\": \"xprvA3UDoR5D2Pyc4kHDc76rVn2AeVNgCAcZFyq7z88GS6szZJaviLpSZGfdbC3NgFf8gpQC4AZkd5DDLPc7DxS7vT797tVYzsG42bBJtybvZdc\",\n            \"xpub\": \"xpub6GTaCvc6rmXuHEMgi8drruxuCXDAbdLQdCkinWXszSQyS6v5Ft8h74z7SVizWcFUY6fA875H7o37FM1unXjn4KAPtduD3jk7uXru2Xat3Q9\"\n        },\n        {\n            \"address\": \"1JHbxvtJsjARiR9EKsikSstZewkWJWTZwk\",\n            \"index\": 1,\n            \"path\": \"m/44'/0'/0'/0/1\",\n            \"privkey\": \"KxgACaPxVynmLsdWGikZAzUTVT85YCcX9rbw4sD274MALskJhNNK\",\n            \"pubkey\": \"02e0e88941e5c49de7ea6ddef78a68bb16a7d04a5e6c7fb35b1ac67fe0acc4512b\",\n            \"pubkeyhash\": \"bd9dfafdd2f95f93629b5d501fdea6d3c44d9b47\",\n            \"xprv\": \"xprvA3UDoR5D2Pyc66db3Dbqvr6fnyGUEHN1sZ1p5jmEcfXFNH64XM9ZTrBcvghZs9ZkgB5X3bE7Eamryp3xT6ijdydSGY8njwhzBQ2SB6rVbZd\",\n            \"xpub\": \"xpub6GTaCvc6rmXuJai49F8rHz3QM16xdk5sEmwQt8ArB14EF5RD4tTp1eW6my7Fajzt9S9Z47JgBQdLsdDbeBZZuYghgMupwhE4uTrgCnGsJmr\"\n        },\n        {\n            \"address\": \"1LaxYqTvDZUCoQkv3vCwKocUx1MkpRGxCL\",\n            \"index\": 2,\n            \"path\": \"m/44'/0'/0'/0/2\",\n            \"privkey\": \"L3NxgF2ipw7qWcx1WLiWXUDn8ci2Z8XiFkFgPZxfWJ6M4rwR4Ki3\",\n            \"pubkey\": \"029ab9c3a631ba51cbdc59a80d4a4ad477a556775fc208c24a847d8dadbcbda91c\",\n            \"pubkeyhash\": \"d6d67c8bd32f2dc415ab64d91b511f9d3f84fd8b\",\n            \"xprv\": \"xprvA3UDoR5D2Pyc99wUywNrYA8ywih5bYoqsBTtjytV64wYsnf2nffmXcAkM6X1q9oZ1QWAd483qVYh6pTMDmqKi4hfJeqMTyzNmBtFtPpsfK1\",\n            \"xpub\": \"xpub6GTaCvc6rmXuMe1x5xuruJ5iVkXa11XhEQPVYNJ6eQUXkazBLCz25QVECMKz3aWJCvzPWdbGVEYRhhynmpC7c8oQyvKkmd7xhVkfhMpnBu1\"\n        }\n    ],\n    \"btc-test\": [\n        {\n            \"address\": \"mtwKEtSHmt9xuBSFLeWNXWQDPKTEK1rhtV\",\n            \"index\": 0,\n            \"path\": \"m/44'/1'/0'/0/0\",\n            \"privkey\": \"cNDjtsoGrP3PJCUMS3mSu2Mvo73rXRBM6tD3NZsZtdCBVTKxFRCt\",\n            \"pubkey\": \"023b5a8a5a23a52b10047c53b95585a9eb742fa67342cd81e4982c70d282ae45ae\",\n            \"pubkeyhash\": \"93351a45250369b5ecd6ed98a72cb5d45540a2c4\",\n            \"xprv\": \"tprv8jiDZfA7CjdPaUg4AntvSxsmkf3iu6efTMxgEHXq3ehqeuFZDowtree1xyNpS4vd1fyaj9DGqh8UPwAM3Cx6msctPYiGvN9RqQXxnw6s2qB\",\n            \"xpub\": \"tpubDGQFi5CMM7K4Twhr4SZWrNXtKgZf4Rqa2fZTWoa8TvWEVPWKrCmV39Ft96dTnukGcEQpnkcPeseUrvXHYA6UE1LkQZ4xmLFybvxTDhLYFzg\"\n        },\n        {\n            \"address\": \"mg5XJJKR4jgf5PTMkRDBJZzn6hfyVfyHzS\",\n            \"index\": 1,\n            \"path\": \"m/44'/1'/0'/0/1\",\n            \"privkey\": \"cV4fpSy4H9bzBoHfTfGMkmDz2jCi5hdUeScKJ3K1PKr5bDNmZefa\",\n            \"pubkey\": \"0217621dd0115410c416eb870094ec312d989fbd4c2677f082d60460c5fc6bc370\",\n            \"pubkeyhash\": \"0628dc7f90e528063bf2b9685a6085488f8bba6d\",\n            \"xprv\": \"tprv8jiDZfA7CjdPdSJGxM6z8n23S8Bq41ht5Fv73VeddGvEzvkh6fCZURLP1DsuePQDb4C7JFvUo9n1wGEpGVU8eqgvYXTN7aYM2VKv9hQGuor\",\n            \"xpub\": \"tpubDGQFi5CMM7K4WuL4qzmaYBgA19hmDLtneZWtL1gw3YidqR1Tj429euxFBKJnHT3by1RHjR9w6D1uDWEDyVfEBYwwsm7G4BjYUU1pirPyBGu\"\n        },\n        {\n            \"address\": \"mtwUhZVkNiCGZcJTmLsR829Z95vG6aWJEY\",\n            \"index\": 2,\n            \"path\": \"m/44'/1'/0'/0/2\",\n            \"privkey\": \"cQXJbzCnZCbU1LcG5n5EiYqo4gUppPn7VhjxRr15Cs7UnVHXytMv\",\n            \"pubkey\": \"03afc066682df529259c697839948294856e49265e7b938845c5c4a018e81d81b5\",\n            \"pubkeyhash\": \"933cffd451e9dbff35afe7ec08e708ba19ecd0c1\",\n            \"xprv\": \"tprv8jiDZfA7CjdPh43CukTXSnpPJfZ3E3La9WGL3PKhPxcb1kRBdFrDqCWioDJE1AdmwTVMUNxSckfqVP37PF1vBdLNBw9FDaCL6PX13BwBYhA\",\n            \"xpub\": \"tpubDGQFi5CMM7K4aX4zoQ87rCUVsh4yPNXUios7KuMzpEQyrEfxFefp1h8ayNrcersX1LSttbEcd6KFbbHLN5wQC33Cvn5Qv8FxmNFtmjbYZ7d\"\n        }\n    ],\n    \"eth\": [\n        {\n            \"address\": \"0xc283232fe07dB95BebC8d184E53015a9C9d0Fb8f\",\n            \"index\": 0,\n            \"path\": \"m/44'/60'/0'/0/0\",\n            \"privkey\": \"0x91931b08b93efc2befa76fac840f5948392d527b9817617fa5c1dc131f73fecd\",\n            \"pubkey\": \"039d15f4c59b371a4ba8f6a4d707bbb84a935980d9fc2753c46ab7ce69c6d9a739\",\n            \"pubkeyhash\": \"0bbcf5b01b3fba65ef7367256509a285bec48a3f\",\n            \"xprv\": \"xprvA3sTENSRbWp5DHTpieoNGPzwwTaxvvt1BeeKL86CNDNzEWWAMB5Hpkbp5PinSVW9QbMsYp16CfFZq8rWpM1iMLmb3BWyzWewjDQEmQW2sN8\",\n            \"xpub\": \"xpub6GrodsyKRtNNRmYHpgLNdXwgVVRTLPbrYsZv8WVovYuy7JqJtiPYNYvHvgnN6Ukq8ZWbs84RcfU38hpgfaYTL41552P3uD7Aisc1L44osdJ\"\n        },\n        {\n            \"address\": \"0x3919C29D33F3fBD7BCde248EE846da2C770Fa668\",\n            \"index\": 1,\n            \"path\": \"m/44'/60'/0'/0/1\",\n            \"privkey\": \"0x52183eb03f6fd504d1a2ad2d188e78b4674d81ea55e1527f0979f5397b510691\",\n            \"pubkey\": \"0272164cddd049790203ff24867b991457cfa905c727d004a4d5d43175d608a2bd\",\n            \"pubkeyhash\": \"8f9c02f1a6313ac89a19e85484d567e21b3517e9\",\n            \"xprv\": \"xprvA3sTENSRbWp5H18HW8V3Z78j9vNUxedYWPfDYwkkDYkdg2ocS9xKKYxeKhKDoqUXtvGoAMDykiz2ihqMzux5Pu2y6mz98WVoaRpdi35qG99\",\n            \"xpub\": \"xpub6GrodsyKRtNNVVCkcA23vF5ThxCyN7MPscapMLAMmtHcYq8kyhGZsMH8Axb5TFUPDiJF1cNcwSKefCZKpTnEVS1TejB5QtCs6eM18kTen9d\"\n        },\n        {\n            \"address\": \"0x28d6aE16F17b1eE5f1B26fe28eE55cfDfAc9d1a6\",\n            \"index\": 2,\n            \"path\": \"m/44'/60'/0'/0/2\",\n            \"privkey\": \"0x2d6fd4341e0b85ba25767cecfb6c28c8045c060e66e02a343dc4658c7da2c9cf\",\n            \"pubkey\": \"024650974ff1cb616e026d34839fdf8bbd4d78214bc222c19feaae8bb17078a938\",\n            \"pubkeyhash\": \"591cbb3f3dffa2d402c7a562ce2b0c35d11b0735\",\n            \"xprv\": \"xprvA3sTENSRbWp5Jk3zK36kYJzdjGHn6rGTVUxzdi6EyaZNjP98AZkMhRN7J9NSkbUsMfrzqwDsPKqubkVSaDe9CwWXap7L6oVsZJCrAPCrN1Z\",\n            \"xpub\": \"xpub6GrodsyKRtNNXE8TR4dkuSwNHJ8GWJzJrhtbS6VrXv6McBUGi74cFDgb9QbAfksA9eWMMTUj3WgTNzG6rrbVBiSZ9iwwVBUTqMw4sM7xFuy\"\n        }\n    ]\n}\n"
     ]
    }
   ],
   "source": [
    "print(json.dumps(keys, indent=4, sort_keys=True))"
   ]
  },
  {
   "cell_type": "code",
   "execution_count": 10,
   "metadata": {},
   "outputs": [
    {
     "output_type": "stream",
     "name": "stdout",
     "text": [
      "0x91931b08b93efc2befa76fac840f5948392d527b9817617fa5c1dc131f73fecd\ncNDjtsoGrP3PJCUMS3mSu2Mvo73rXRBM6tD3NZsZtdCBVTKxFRCt\n"
     ]
    }
   ],
   "source": [
    "eth_PrivateKey = keys[\"eth\"][0]['privkey']\n",
    "btc_PrivateKey = keys['btc-test'][0]['privkey']\n",
    "\n",
    "print(eth_PrivateKey)\n",
    "print(btc_PrivateKey)"
   ]
  },
  {
   "cell_type": "code",
   "execution_count": 11,
   "metadata": {},
   "outputs": [],
   "source": [
    "# create a function that convert the privkey string in a child key to an account object.\n",
    "def priv_key_to_account(coin,priv_key):\n",
    "    print(coin)\n",
    "    print(priv_key)\n",
    "    if coin == ETH:\n",
    "        return Account.privateKeyToAccount(priv_key)\n",
    "    elif coin == BTCTEST:\n",
    "        return PrivateKeyTestnet(priv_key)"
   ]
  },
  {
   "cell_type": "code",
   "execution_count": 12,
   "metadata": {},
   "outputs": [],
   "source": [
    "def create_tx(coin, account, recipient, amount):\n",
    "    if coin == ETH: \n",
    "        gasEstimate = w3.eth.estimateGas(\n",
    "            {\"from\":eth_acc.address, \"to\":recipient, \"value\": amount}\n",
    "        )\n",
    "        return { \n",
    "            \"from\": eth_acc.address,\n",
    "            \"to\": recipient,\n",
    "            \"value\": amount,\n",
    "            \"gasPrice\": w3.eth.gasPrice,\n",
    "            \"gas\": gasEstimate,\n",
    "            \"nonce\": w3.eth.getTransactionCount(eth_acc.address)\n",
    "        }\n",
    "    \n",
    "    elif coin == BTCTEST:\n",
    "        return PrivateKeyTestnet.prepare_transaction(account.address, [(recipient, amount, BTC)])"
   ]
  },
  {
   "cell_type": "code",
   "execution_count": 13,
   "metadata": {},
   "outputs": [
    {
     "output_type": "stream",
     "name": "stdout",
     "text": [
      "eth\n0x91931b08b93efc2befa76fac840f5948392d527b9817617fa5c1dc131f73fecd\n"
     ]
    }
   ],
   "source": [
    "# create a function to hold Ethereum \n",
    "eth_acc = priv_key_to_account(ETH, derive_wallets(mnemonic, ETH,5)[0]['privkey'])"
   ]
  },
  {
   "cell_type": "code",
   "execution_count": 14,
   "metadata": {},
   "outputs": [],
   "source": [
    "# create a function to send txn\n",
    "def send_txn(coin,account,recipient, amount):\n",
    "    txn = create_tx(coin, account, recipient, amount)\n",
    "    if coin == ETH:\n",
    "        signed_txn = eth_acc.sign_transaction(txn)\n",
    "        result = w3.eth.sendRawTransaction(signed_txn.rawTransaction)\n",
    "        print(result.hex())\n",
    "        return result.hex()\n",
    "    elif coin == BTCTEST:\n",
    "        tx_btctest = create_tx(coin, account, recipient, amount)\n",
    "        signed_txn = account.sign_transaction(txn)\n",
    "        print(signed_txn)\n",
    "        return NetworkAPI.broadcast_tx_testnet(signed_txn)"
   ]
  },
  {
   "source": [
    "# BTC-TEST Transactions"
   ],
   "cell_type": "markdown",
   "metadata": {}
  },
  {
   "cell_type": "code",
   "execution_count": 15,
   "metadata": {},
   "outputs": [
    {
     "output_type": "stream",
     "name": "stdout",
     "text": [
      "btc-test\ncNDjtsoGrP3PJCUMS3mSu2Mvo73rXRBM6tD3NZsZtdCBVTKxFRCt\n"
     ]
    }
   ],
   "source": [
    "btc_acc = priv_key_to_account(BTCTEST,btc_PrivateKey)"
   ]
  },
  {
   "cell_type": "code",
   "execution_count": 17,
   "metadata": {},
   "outputs": [
    {
     "output_type": "execute_result",
     "data": {
      "text/plain": [
       "'{\"unspents\":[{\"amount\":87000,\"confirmations\":0,\"script\":\"76a91493351a45250369b5ecd6ed98a72cb5d45540a2c488ac\",\"txid\":\"4f3f57ea21db2b08f85a2d47568aefdd0da08e89979d6b3203d872b5426ed4df\",\"txindex\":1,\"type\":\"p2pkh\",\"vsize\":148,\"segwit\":false,\"sequence\":4294967295},{\"amount\":66821,\"confirmations\":0,\"script\":\"76a91493351a45250369b5ecd6ed98a72cb5d45540a2c488ac\",\"txid\":\"028801a053202d596f4b914841ea4d2f7875ff05c3d22d5ed42eff526fec3edb\",\"txindex\":0,\"type\":\"p2pkh\",\"vsize\":148,\"segwit\":false,\"sequence\":4294967295},{\"amount\":50000,\"confirmations\":0,\"script\":\"76a91493351a45250369b5ecd6ed98a72cb5d45540a2c488ac\",\"txid\":\"7cc277fab7f3d82bcd37c795d0d73c2c0d3532ad4a495abbb5d08997d0e6bd5b\",\"txindex\":1,\"type\":\"p2pkh\",\"vsize\":148,\"segwit\":false,\"sequence\":4294967295}],\"outputs\":[[\"mtwKEtSHmt9xuBSFLeWNXWQDPKTEK1rhtV\",100000],[\"mtwKEtSHmt9xuBSFLeWNXWQDPKTEK1rhtV\",50577]]}'"
      ]
     },
     "metadata": {},
     "execution_count": 17
    }
   ],
   "source": [
    "create_tx(BTCTEST,btc_acc,\"mtwKEtSHmt9xuBSFLeWNXWQDPKTEK1rhtV\", 0.001)"
   ]
  },
  {
   "cell_type": "code",
   "execution_count": 18,
   "metadata": {},
   "outputs": [
    {
     "output_type": "stream",
     "name": "stdout",
     "text": [
      "0100000003dfd46e42b572d803326b9d97898ea00dddef8a56472d5af8082bdb21ea573f4f010000006b48304502210093b866007a2638cded85c91704e6a8d874d82eacc4e891310695662692f96dbf0220510e9edd855c6133f1d9670057d72b8ff36a43148728d993c2534fcac98b97bf0121023b5a8a5a23a52b10047c53b95585a9eb742fa67342cd81e4982c70d282ae45aeffffffffdb3eec6f52ff2ed45e2dd2c305ff75782f4dea4148914b6f592d2053a0018802000000006b483045022100ab64468b20236979650b230dd3b875a31a6bee65c31e07e0e5c85c644ef31dae022064b307293b9a19ed406f8782ca3041c61d7115087c3dcc7b0cb6e8cf357221f60121023b5a8a5a23a52b10047c53b95585a9eb742fa67342cd81e4982c70d282ae45aeffffffff5bbde6d09789d0b5bb5a494aad32350d2c3cd7d095c737cd2bd8f3b7fa77c27c010000006a473044022048ce7adb59217c44dd9a28cacc1f6db9de2f2b6a0822c1f283c1aeab3015a418022063e43c0933e3c228180fb90344a0a956e32cd1362cac244ab4584b669addf8980121023b5a8a5a23a52b10047c53b95585a9eb742fa67342cd81e4982c70d282ae45aeffffffff02a0860100000000001976a9140628dc7f90e528063bf2b9685a6085488f8bba6d88ac91c50000000000001976a91493351a45250369b5ecd6ed98a72cb5d45540a2c488ac00000000\n"
     ]
    }
   ],
   "source": [
    "# send BTC transaction\n",
    "send_txn(BTCTEST,btc_acc,\"mg5XJJKR4jgf5PTMkRDBJZzn6hfyVfyHzS\", 0.001)"
   ]
  },
  {
   "source": [
    "# ETH Transactions"
   ],
   "cell_type": "markdown",
   "metadata": {}
  },
  {
   "cell_type": "code",
   "execution_count": 5,
   "metadata": {},
   "outputs": [],
   "source": [
    "# connecting to HTTP and confirming I am connected to blockchain\n",
    "w3 = Web3(Web3.HTTPProvider(\"http://127.0.0.1:8545/0x91931b08b93efc2befa76fac840f5948392d527b9817617fa5c1dc131f73fecd\"))"
   ]
  },
  {
   "cell_type": "code",
   "execution_count": 6,
   "metadata": {},
   "outputs": [
    {
     "output_type": "execute_result",
     "data": {
      "text/plain": [
       "False"
      ]
     },
     "metadata": {},
     "execution_count": 6
    }
   ],
   "source": [
    "w3.isConnected()"
   ]
  },
  {
   "cell_type": "code",
   "execution_count": 40,
   "metadata": {},
   "outputs": [
    {
     "output_type": "execute_result",
     "data": {
      "text/plain": [
       "0"
      ]
     },
     "metadata": {},
     "execution_count": 40
    }
   ],
   "source": []
  },
  {
   "cell_type": "code",
   "execution_count": null,
   "metadata": {},
   "outputs": [],
   "source": []
  }
 ]
}